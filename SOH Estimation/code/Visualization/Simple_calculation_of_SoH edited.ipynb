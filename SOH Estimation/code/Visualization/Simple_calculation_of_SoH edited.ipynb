{
 "cells": [
  {
   "cell_type": "markdown",
   "metadata": {},
   "source": [
    "## 0. Import Packages"
   ]
  },
  {
   "cell_type": "code",
   "execution_count": 1,
   "metadata": {},
   "outputs": [],
   "source": [
    "import numpy as np\n",
    "import pandas as pd\n",
    "import matplotlib.pyplot as plt\n",
    "import tensorflow as tf\n",
    "import keras\n",
    "import os\n",
    "import glob\n",
    "import seaborn as sns"
   ]
  },
  {
   "cell_type": "markdown",
   "metadata": {},
   "source": [
    "## 1. Load Dataset"
   ]
  },
  {
   "cell_type": "code",
   "execution_count": 156,
   "metadata": {
    "scrolled": true
   },
   "outputs": [
    {
     "data": {
      "text/html": [
       "<div>\n",
       "<style scoped>\n",
       "    .dataframe tbody tr th:only-of-type {\n",
       "        vertical-align: middle;\n",
       "    }\n",
       "\n",
       "    .dataframe tbody tr th {\n",
       "        vertical-align: top;\n",
       "    }\n",
       "\n",
       "    .dataframe thead th {\n",
       "        text-align: right;\n",
       "    }\n",
       "</style>\n",
       "<table border=\"1\" class=\"dataframe\">\n",
       "  <thead>\n",
       "    <tr style=\"text-align: right;\">\n",
       "      <th></th>\n",
       "      <th>terminal_voltage</th>\n",
       "      <th>terminal_current</th>\n",
       "      <th>temperature</th>\n",
       "      <th>charge_current</th>\n",
       "      <th>charge_voltage</th>\n",
       "      <th>time</th>\n",
       "      <th>capacity</th>\n",
       "      <th>cycle</th>\n",
       "      <th>SOH</th>\n",
       "    </tr>\n",
       "  </thead>\n",
       "  <tbody>\n",
       "    <tr>\n",
       "      <th>0</th>\n",
       "      <td>4.223691</td>\n",
       "      <td>0.000786</td>\n",
       "      <td>6.524867</td>\n",
       "      <td>0.0002</td>\n",
       "      <td>0.000</td>\n",
       "      <td>0.000</td>\n",
       "      <td>1.657996</td>\n",
       "      <td>1</td>\n",
       "      <td>0.828998</td>\n",
       "    </tr>\n",
       "    <tr>\n",
       "      <th>1</th>\n",
       "      <td>4.223669</td>\n",
       "      <td>-0.000108</td>\n",
       "      <td>6.535332</td>\n",
       "      <td>0.0002</td>\n",
       "      <td>4.239</td>\n",
       "      <td>9.360</td>\n",
       "      <td>1.657996</td>\n",
       "      <td>1</td>\n",
       "      <td>0.828998</td>\n",
       "    </tr>\n",
       "    <tr>\n",
       "      <th>2</th>\n",
       "      <td>4.005552</td>\n",
       "      <td>-1.000518</td>\n",
       "      <td>6.566910</td>\n",
       "      <td>0.9990</td>\n",
       "      <td>3.466</td>\n",
       "      <td>23.281</td>\n",
       "      <td>1.657996</td>\n",
       "      <td>1</td>\n",
       "      <td>0.828998</td>\n",
       "    </tr>\n",
       "    <tr>\n",
       "      <th>3</th>\n",
       "      <td>3.985616</td>\n",
       "      <td>-0.993255</td>\n",
       "      <td>6.609717</td>\n",
       "      <td>0.9990</td>\n",
       "      <td>3.447</td>\n",
       "      <td>36.406</td>\n",
       "      <td>1.657996</td>\n",
       "      <td>1</td>\n",
       "      <td>0.828998</td>\n",
       "    </tr>\n",
       "    <tr>\n",
       "      <th>4</th>\n",
       "      <td>3.970828</td>\n",
       "      <td>-0.997432</td>\n",
       "      <td>6.665530</td>\n",
       "      <td>0.9990</td>\n",
       "      <td>3.435</td>\n",
       "      <td>49.625</td>\n",
       "      <td>1.657996</td>\n",
       "      <td>1</td>\n",
       "      <td>0.828998</td>\n",
       "    </tr>\n",
       "    <tr>\n",
       "      <th>...</th>\n",
       "      <td>...</td>\n",
       "      <td>...</td>\n",
       "      <td>...</td>\n",
       "      <td>...</td>\n",
       "      <td>...</td>\n",
       "      <td>...</td>\n",
       "      <td>...</td>\n",
       "      <td>...</td>\n",
       "      <td>...</td>\n",
       "    </tr>\n",
       "    <tr>\n",
       "      <th>24514</th>\n",
       "      <td>2.747684</td>\n",
       "      <td>-0.995920</td>\n",
       "      <td>9.808829</td>\n",
       "      <td>0.9988</td>\n",
       "      <td>2.239</td>\n",
       "      <td>4388.719</td>\n",
       "      <td>1.223127</td>\n",
       "      <td>72</td>\n",
       "      <td>0.611564</td>\n",
       "    </tr>\n",
       "    <tr>\n",
       "      <th>24515</th>\n",
       "      <td>2.728848</td>\n",
       "      <td>-0.995814</td>\n",
       "      <td>9.952791</td>\n",
       "      <td>0.9990</td>\n",
       "      <td>2.219</td>\n",
       "      <td>4404.188</td>\n",
       "      <td>1.223127</td>\n",
       "      <td>72</td>\n",
       "      <td>0.611564</td>\n",
       "    </tr>\n",
       "    <tr>\n",
       "      <th>24516</th>\n",
       "      <td>2.709891</td>\n",
       "      <td>-0.994098</td>\n",
       "      <td>10.098105</td>\n",
       "      <td>0.9990</td>\n",
       "      <td>2.200</td>\n",
       "      <td>4419.625</td>\n",
       "      <td>1.223127</td>\n",
       "      <td>72</td>\n",
       "      <td>0.611564</td>\n",
       "    </tr>\n",
       "    <tr>\n",
       "      <th>24517</th>\n",
       "      <td>2.690437</td>\n",
       "      <td>-0.994723</td>\n",
       "      <td>10.154930</td>\n",
       "      <td>0.9990</td>\n",
       "      <td>2.181</td>\n",
       "      <td>4435.047</td>\n",
       "      <td>1.223127</td>\n",
       "      <td>72</td>\n",
       "      <td>0.611564</td>\n",
       "    </tr>\n",
       "    <tr>\n",
       "      <th>24518</th>\n",
       "      <td>3.156990</td>\n",
       "      <td>-0.000437</td>\n",
       "      <td>10.208360</td>\n",
       "      <td>0.0006</td>\n",
       "      <td>0.000</td>\n",
       "      <td>4450.625</td>\n",
       "      <td>1.223127</td>\n",
       "      <td>72</td>\n",
       "      <td>0.611564</td>\n",
       "    </tr>\n",
       "  </tbody>\n",
       "</table>\n",
       "<p>24519 rows × 9 columns</p>\n",
       "</div>"
      ],
      "text/plain": [
       "       terminal_voltage  terminal_current  temperature  charge_current  \\\n",
       "0              4.223691          0.000786     6.524867          0.0002   \n",
       "1              4.223669         -0.000108     6.535332          0.0002   \n",
       "2              4.005552         -1.000518     6.566910          0.9990   \n",
       "3              3.985616         -0.993255     6.609717          0.9990   \n",
       "4              3.970828         -0.997432     6.665530          0.9990   \n",
       "...                 ...               ...          ...             ...   \n",
       "24514          2.747684         -0.995920     9.808829          0.9988   \n",
       "24515          2.728848         -0.995814     9.952791          0.9990   \n",
       "24516          2.709891         -0.994098    10.098105          0.9990   \n",
       "24517          2.690437         -0.994723    10.154930          0.9990   \n",
       "24518          3.156990         -0.000437    10.208360          0.0006   \n",
       "\n",
       "       charge_voltage      time  capacity  cycle       SOH  \n",
       "0               0.000     0.000  1.657996      1  0.828998  \n",
       "1               4.239     9.360  1.657996      1  0.828998  \n",
       "2               3.466    23.281  1.657996      1  0.828998  \n",
       "3               3.447    36.406  1.657996      1  0.828998  \n",
       "4               3.435    49.625  1.657996      1  0.828998  \n",
       "...               ...       ...       ...    ...       ...  \n",
       "24514           2.239  4388.719  1.223127     72  0.611564  \n",
       "24515           2.219  4404.188  1.223127     72  0.611564  \n",
       "24516           2.200  4419.625  1.223127     72  0.611564  \n",
       "24517           2.181  4435.047  1.223127     72  0.611564  \n",
       "24518           0.000  4450.625  1.223127     72  0.611564  \n",
       "\n",
       "[24519 rows x 9 columns]"
      ]
     },
     "execution_count": 156,
     "metadata": {},
     "output_type": "execute_result"
    }
   ],
   "source": [
    "data = pd.read_csv(r'C:\\Users\\Asus\\Desktop\\SoH_estimation_of_Lithium-ion_battery-master\\1_Calculation_and_Visulaliztion_of_SoH\\dataset\\B48_discharge_soh.csv')\n",
    "df = pd.DataFrame(data)\n",
    "df"
   ]
  },
  {
   "cell_type": "code",
   "execution_count": 157,
   "metadata": {
    "scrolled": true
   },
   "outputs": [
    {
     "name": "stdout",
     "output_type": "stream",
     "text": [
      "Shape of data : (24519, 9)\n"
     ]
    }
   ],
   "source": [
    "print(\"Shape of data :\", np.shape(data))"
   ]
  },
  {
   "cell_type": "markdown",
   "metadata": {},
   "source": [
    "## 2. Visualization of capacity"
   ]
  },
  {
   "cell_type": "code",
   "execution_count": 158,
   "metadata": {},
   "outputs": [
    {
     "data": {
      "image/png": "[encoded data removed]",
      "text/plain": [
       "<Figure size 1200x800 with 1 Axes>"
      ]
     },
     "metadata": {},
     "output_type": "display_data"
    }
   ],
   "source": [
    "sns.set_style(\"whitegrid\")\n",
    "plt.figure(figsize=(12, 8))\n",
    "\n",
    "plt.scatter(df['cycle'], df['capacity'], linewidth=4)\n",
    "\n",
    "\n",
    "plt.ylabel('Capacity', fontsize = 15, fontweight='bold', color='black')\n",
    "plt.xlabel('cycle', fontsize = 15, fontweight='bold', color='black')\n",
    "plt.title('test 8', fontsize = 15, fontweight='bold', color='black')\n",
    "plt.xticks(color='black', fontweight='bold',  fontsize = 10)\n",
    "plt.yticks(color='black', fontweight='bold',  fontsize = 10)\n",
    "plt.savefig(r'C:\\Users\\Asus\\Desktop\\SOH output\\test 8.png', dpi=600)\n",
    "plt.show()\n"
   ]
  },
  {
   "cell_type": "markdown",
   "metadata": {},
   "source": [
    "## 3. Calculation of SoH"
   ]
  },
  {
   "cell_type": "code",
   "execution_count": 159,
   "metadata": {},
   "outputs": [
    {
     "name": "stdout",
     "output_type": "stream",
     "text": [
      "Max of SOH : 0.8962138264864865\n",
      "Min of SOH : 0.0\n"
     ]
    }
   ],
   "source": [
    "capacity = df['capacity']\n",
    "# C = capacity[0]\n",
    "\n",
    "SOH = capacity/1.85\n",
    "print(\"Max of SOH :\", np.max(SOH))\n",
    "print(\"Min of SOH :\",  np.min(SOH))"
   ]
  },
  {
   "cell_type": "code",
   "execution_count": 160,
   "metadata": {},
   "outputs": [
    {
     "data": {
      "image/png": "[encoded data removed]",
      "text/plain": [
       "<Figure size 1200x800 with 1 Axes>"
      ]
     },
     "metadata": {},
     "output_type": "display_data"
    }
   ],
   "source": [
    "sns.set_style(\"whitegrid\")\n",
    "plt.figure(figsize=(12, 8))\n",
    "\n",
    "plt.scatter(df['cycle'], SOH, linewidth=4)\n",
    "plt.plot(df['cycle'], len(df['cycle'])*[0.8], color = 'red')\n",
    "\n",
    "\n",
    "plt.ylabel('SOH', fontsize = 15, fontweight='bold', color='black')\n",
    "plt.xlabel('Cycle', fontsize = 15, fontweight='bold', color='black')\n",
    "plt.title('test 8', fontsize = 15, fontweight='bold', color='black')\n",
    "plt.xticks(color='black', fontweight='bold',  fontsize = 10)\n",
    "plt.yticks(color='black', fontweight='bold',  fontsize = 10)\n",
    "plt.savefig(r'C:\\Users\\Asus\\Desktop\\SOH output\\test 8.1.png', dpi=600)\n",
    "plt.show()"
   ]
  },
  {
   "cell_type": "code",
   "execution_count": null,
   "metadata": {},
   "outputs": [],
   "source": []
  }
 ],
 "metadata": {
  "kernelspec": {
   "display_name": "Python 3 (ipykernel)",
   "language": "python",
   "name": "python3"
  },
  "language_info": {
   "codemirror_mode": {
    "name": "ipython",
    "version": 3
   },
   "file_extension": ".py",
   "mimetype": "text/x-python",
   "name": "python",
   "nbconvert_exporter": "python",
   "pygments_lexer": "ipython3",
   "version": "3.11.3"
  }
 },
 "nbformat": 4,
 "nbformat_minor": 4
}
