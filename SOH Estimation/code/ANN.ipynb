{
 "cells": [
  {
   "cell_type": "code",
   "execution_count": 1,
   "id": "e0f91f65",
   "metadata": {},
   "outputs": [],
   "source": [
    "import pandas as pd\n",
    "import numpy as np\n",
    "import matplotlib.pyplot as plt\n",
    "import glob\n",
    "from sklearn.metrics import mean_squared_error, mean_absolute_error, r2_score\n",
    "import tensorflow as tf\n",
    "from tensorflow.keras.models import Sequential\n",
    "from tensorflow.keras.layers import Dense"
   ]
  },
  {
   "cell_type": "code",
   "execution_count": 43,
   "id": "5dfcb641",
   "metadata": {},
   "outputs": [],
   "source": [
    "csv_file = r\"C:\\Users\\Asus\\Desktop\\refined_dataset\\damaged cells\\C08_discharge_soh.csv\"  # Modify the file path as needed"
   ]
  },
  {
   "cell_type": "code",
   "execution_count": 44,
   "id": "db3fe80e",
   "metadata": {},
   "outputs": [],
   "source": [
    "# Load the CSV file\n",
    "df = pd.read_csv(csv_file)"
   ]
  },
  {
   "cell_type": "code",
   "execution_count": 45,
   "id": "7fdf2169",
   "metadata": {},
   "outputs": [],
   "source": [
    "# Extract cycle data (X) and SOH data (y)\n",
    "X = df['cycle'].values\n",
    "y = df['SOH'].values"
   ]
  },
  {
   "cell_type": "code",
   "execution_count": 46,
   "id": "65f86226",
   "metadata": {},
   "outputs": [],
   "source": [
    "# Define the ANN model\n",
    "model = Sequential()\n",
    "model.add(Dense(16, input_shape=(1,), activation='relu'))  # First hidden layer with 16 neurons\n",
    "model.add(Dense(8, activation='relu'))  # Second hidden layer with 8 neurons\n",
    "model.add(Dense(1))  # Output layer with 1 neuron"
   ]
  },
  {
   "cell_type": "code",
   "execution_count": 47,
   "id": "cbc717ff",
   "metadata": {},
   "outputs": [],
   "source": [
    "# Compile the model\n",
    "model.compile(optimizer='adam', loss='mean_squared_error')"
   ]
  },
  {
   "cell_type": "code",
   "execution_count": 48,
   "id": "d7176942",
   "metadata": {},
   "outputs": [
    {
     "name": "stdout",
     "output_type": "stream",
     "text": [
      "Epoch 1/50\n",
      "734/734 [==============================] - 4s 4ms/step - loss: 0.1033\n",
      "Epoch 2/50\n",
      "734/734 [==============================] - 2s 3ms/step - loss: 0.0013\n",
      "Epoch 3/50\n",
      "734/734 [==============================] - 2s 3ms/step - loss: 8.8304e-04\n",
      "Epoch 4/50\n",
      "734/734 [==============================] - 2s 2ms/step - loss: 7.4040e-04\n",
      "Epoch 5/50\n",
      "734/734 [==============================] - 2s 3ms/step - loss: 7.4237e-04\n",
      "Epoch 6/50\n",
      "734/734 [==============================] - 2s 2ms/step - loss: 7.7495e-04\n",
      "Epoch 7/50\n",
      "734/734 [==============================] - 2s 2ms/step - loss: 8.2884e-04\n",
      "Epoch 8/50\n",
      "734/734 [==============================] - 2s 3ms/step - loss: 0.0011\n",
      "Epoch 9/50\n",
      "734/734 [==============================] - 2s 3ms/step - loss: 8.5781e-04\n",
      "Epoch 10/50\n",
      "734/734 [==============================] - 3s 4ms/step - loss: 0.0010\n",
      "Epoch 11/50\n",
      "734/734 [==============================] - 2s 3ms/step - loss: 8.4471e-04\n",
      "Epoch 12/50\n",
      "734/734 [==============================] - 2s 3ms/step - loss: 9.7686e-04\n",
      "Epoch 13/50\n",
      "734/734 [==============================] - 2s 3ms/step - loss: 9.4519e-04\n",
      "Epoch 14/50\n",
      "734/734 [==============================] - 2s 3ms/step - loss: 8.5411e-04\n",
      "Epoch 15/50\n",
      "734/734 [==============================] - 3s 4ms/step - loss: 0.0010\n",
      "Epoch 16/50\n",
      "734/734 [==============================] - 3s 3ms/step - loss: 9.9926e-04\n",
      "Epoch 17/50\n",
      "734/734 [==============================] - 2s 3ms/step - loss: 8.8516e-04\n",
      "Epoch 18/50\n",
      "734/734 [==============================] - 2s 3ms/step - loss: 8.8478e-04\n",
      "Epoch 19/50\n",
      "734/734 [==============================] - 2s 3ms/step - loss: 9.3288e-04\n",
      "Epoch 20/50\n",
      "734/734 [==============================] - 3s 4ms/step - loss: 9.0065e-04\n",
      "Epoch 21/50\n",
      "734/734 [==============================] - 2s 3ms/step - loss: 9.9378e-04\n",
      "Epoch 22/50\n",
      "734/734 [==============================] - 2s 3ms/step - loss: 8.8262e-04\n",
      "Epoch 23/50\n",
      "734/734 [==============================] - 2s 3ms/step - loss: 9.5902e-04\n",
      "Epoch 24/50\n",
      "734/734 [==============================] - 2s 2ms/step - loss: 8.3265e-04\n",
      "Epoch 25/50\n",
      "734/734 [==============================] - 2s 3ms/step - loss: 9.2091e-04\n",
      "Epoch 26/50\n",
      "734/734 [==============================] - 2s 3ms/step - loss: 9.1233e-04\n",
      "Epoch 27/50\n",
      "734/734 [==============================] - 2s 3ms/step - loss: 8.5420e-04\n",
      "Epoch 28/50\n",
      "734/734 [==============================] - 2s 3ms/step - loss: 9.0243e-04\n",
      "Epoch 29/50\n",
      "734/734 [==============================] - 3s 3ms/step - loss: 9.4446e-04\n",
      "Epoch 30/50\n",
      "734/734 [==============================] - 4s 5ms/step - loss: 8.7303e-04\n",
      "Epoch 31/50\n",
      "734/734 [==============================] - 3s 4ms/step - loss: 8.3445e-04\n",
      "Epoch 32/50\n",
      "734/734 [==============================] - 4s 5ms/step - loss: 0.0011\n",
      "Epoch 33/50\n",
      "734/734 [==============================] - 4s 5ms/step - loss: 8.7106e-04\n",
      "Epoch 34/50\n",
      "734/734 [==============================] - 3s 4ms/step - loss: 0.0010\n",
      "Epoch 35/50\n",
      "734/734 [==============================] - 4s 5ms/step - loss: 8.3750e-04\n",
      "Epoch 36/50\n",
      "734/734 [==============================] - 3s 4ms/step - loss: 0.0011\n",
      "Epoch 37/50\n",
      "734/734 [==============================] - 2s 3ms/step - loss: 8.8889e-04\n",
      "Epoch 38/50\n",
      "734/734 [==============================] - 2s 3ms/step - loss: 9.0017e-04\n",
      "Epoch 39/50\n",
      "734/734 [==============================] - 3s 4ms/step - loss: 8.9628e-04\n",
      "Epoch 40/50\n",
      "734/734 [==============================] - 3s 4ms/step - loss: 8.8849e-04\n",
      "Epoch 41/50\n",
      "734/734 [==============================] - 3s 3ms/step - loss: 9.5153e-04\n",
      "Epoch 42/50\n",
      "734/734 [==============================] - 2s 3ms/step - loss: 8.3853e-04\n",
      "Epoch 43/50\n",
      "734/734 [==============================] - 3s 4ms/step - loss: 8.3629e-04\n",
      "Epoch 44/50\n",
      "734/734 [==============================] - 3s 4ms/step - loss: 9.3772e-04\n",
      "Epoch 45/50\n",
      "734/734 [==============================] - 2s 3ms/step - loss: 8.6774e-04\n",
      "Epoch 46/50\n",
      "734/734 [==============================] - 3s 4ms/step - loss: 8.5129e-04\n",
      "Epoch 47/50\n",
      "734/734 [==============================] - 3s 3ms/step - loss: 8.8153e-04\n",
      "Epoch 48/50\n",
      "734/734 [==============================] - 2s 3ms/step - loss: 8.6928e-04\n",
      "Epoch 49/50\n",
      "734/734 [==============================] - 2s 3ms/step - loss: 8.4107e-04\n",
      "Epoch 50/50\n",
      "734/734 [==============================] - 2s 3ms/step - loss: 7.9437e-04\n"
     ]
    },
    {
     "data": {
      "text/plain": [
       "<keras.callbacks.History at 0x18006500a90>"
      ]
     },
     "execution_count": 48,
     "metadata": {},
     "output_type": "execute_result"
    }
   ],
   "source": [
    "# Train the model\n",
    "model.fit(X.reshape(-1, 1), y, epochs=50)"
   ]
  },
  {
   "cell_type": "code",
   "execution_count": 49,
   "id": "20c51256",
   "metadata": {},
   "outputs": [
    {
     "name": "stdout",
     "output_type": "stream",
     "text": [
      "734/734 [==============================] - 2s 3ms/step\n"
     ]
    }
   ],
   "source": [
    "# Predict using the trained model\n",
    "y_pred = model.predict(X.reshape(-1, 1)).flatten()"
   ]
  },
  {
   "cell_type": "code",
   "execution_count": 50,
   "id": "62cc016a",
   "metadata": {},
   "outputs": [],
   "source": [
    "# Calculate metrics\n",
    "mse = mean_squared_error(y, y_pred)\n",
    "mae = mean_absolute_error(y, y_pred)\n",
    "r2 = r2_score(y, y_pred)\n",
    "rmse = np.sqrt(mse)"
   ]
  },
  {
   "cell_type": "code",
   "execution_count": 51,
   "id": "9b9fcd36",
   "metadata": {},
   "outputs": [
    {
     "data": {
      "image/png": "[encoded data removed]",
      "text/plain": [
       "<Figure size 640x480 with 1 Axes>"
      ]
     },
     "metadata": {},
     "output_type": "display_data"
    }
   ],
   "source": [
    "# Plot the data and linear regression line\n",
    "plt.scatter(X, y, label='Real data')\n",
    "plt.plot(X, y_pred, color='red', label='ANN')\n",
    "plt.xlabel('Cycle')\n",
    "plt.ylabel('SOH')\n",
    "plt.title('Test 8')\n",
    "plt.legend()\n",
    "plt.savefig(r'C:\\Users\\Asus\\Desktop\\ann8.png', dpi=600)\n",
    "plt.show()"
   ]
  },
  {
   "cell_type": "code",
   "execution_count": 52,
   "id": "fb9e449a",
   "metadata": {},
   "outputs": [
    {
     "name": "stdout",
     "output_type": "stream",
     "text": [
      "Mean Squared Error (MSE): 1.0944818201293145\n",
      "Mean Absolute Error (MAE): 0.2793341171096966\n",
      "R2 Score: 0.48745434913398755\n",
      "Root Mean Squared Error (RMSE): 0.3308295361858301\n"
     ]
    }
   ],
   "source": [
    "# Print metrics\n",
    "print(\"Mean Squared Error (MSE):\", mse*1000)\n",
    "print(\"Mean Absolute Error (MAE):\", mae*10)\n",
    "print(\"R2 Score:\", r2)\n",
    "print(\"Root Mean Squared Error (RMSE):\", rmse*10)"
   ]
  },
  {
   "cell_type": "code",
   "execution_count": null,
   "id": "accf48c0",
   "metadata": {},
   "outputs": [],
   "source": []
  }
 ],
 "metadata": {
  "kernelspec": {
   "display_name": "Python 3 (ipykernel)",
   "language": "python",
   "name": "python3"
  },
  "language_info": {
   "codemirror_mode": {
    "name": "ipython",
    "version": 3
   },
   "file_extension": ".py",
   "mimetype": "text/x-python",
   "name": "python",
   "nbconvert_exporter": "python",
   "pygments_lexer": "ipython3",
   "version": "3.9.13"
  }
 },
 "nbformat": 4,
 "nbformat_minor": 5
}
