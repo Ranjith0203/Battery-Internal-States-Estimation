{
 "cells": [
  {
   "cell_type": "code",
   "execution_count": 58,
   "id": "e0f91f65",
   "metadata": {},
   "outputs": [],
   "source": [
    "import pandas as pd\n",
    "import numpy as np\n",
    "import matplotlib.pyplot as plt\n",
    "from sklearn.svm import SVR\n",
    "from sklearn.metrics import mean_squared_error, mean_absolute_error, r2_score\n",
    "from sklearn.model_selection import GridSearchCV"
   ]
  },
  {
   "cell_type": "code",
   "execution_count": 129,
   "id": "5dfcb641",
   "metadata": {},
   "outputs": [],
   "source": [
    "csv_file = r\"C:\\Users\\Asus\\Desktop\\refined_dataset\\damaged cells\\C08_discharge_soh.csv\"  # Modify the file path as needed"
   ]
  },
  {
   "cell_type": "code",
   "execution_count": 130,
   "id": "db3fe80e",
   "metadata": {},
   "outputs": [],
   "source": [
    "# Load the CSV file\n",
    "df = pd.read_csv(csv_file)"
   ]
  },
  {
   "cell_type": "code",
   "execution_count": 131,
   "id": "7fdf2169",
   "metadata": {},
   "outputs": [],
   "source": [
    "# Extract cycle data (X) and SOH data (y)\n",
    "X = df['cycle'].values\n",
    "y = df['SOH'].values"
   ]
  },
  {
   "cell_type": "code",
   "execution_count": 132,
   "id": "866d405a",
   "metadata": {},
   "outputs": [],
   "source": [
    "# Define the parameter grid for grid search\n",
    "param_grid = {\n",
    "    'kernel': ['linear', 'rbf'],\n",
    "    'C': [0.01, 0.1,1,10],\n",
    "    'gamma': ['scale','auto']\n",
    "}"
   ]
  },
  {
   "cell_type": "code",
   "execution_count": 133,
   "id": "3d6bd8c7",
   "metadata": {},
   "outputs": [],
   "source": [
    "# Create SVR model\n",
    "model = SVR()"
   ]
  },
  {
   "cell_type": "code",
   "execution_count": 134,
   "id": "17780fae",
   "metadata": {},
   "outputs": [
    {
     "data": {
      "text/plain": [
       "GridSearchCV(estimator=SVR(),\n",
       "             param_grid={'C': [0.01, 0.1, 1, 10], 'gamma': ['scale', 'auto'],\n",
       "                         'kernel': ['linear', 'rbf']},\n",
       "             scoring='neg_mean_squared_error')"
      ]
     },
     "execution_count": 134,
     "metadata": {},
     "output_type": "execute_result"
    }
   ],
   "source": [
    "# Perform grid search for hyperparameter tuning\n",
    "grid_search = GridSearchCV(estimator=model, param_grid=param_grid, scoring='neg_mean_squared_error')\n",
    "grid_search.fit(X.reshape(-1, 1), y)"
   ]
  },
  {
   "cell_type": "code",
   "execution_count": 135,
   "id": "3f7b1d47",
   "metadata": {},
   "outputs": [],
   "source": [
    "# Get the best model and its parameters\n",
    "best_model = grid_search.best_estimator_\n",
    "best_params = grid_search.best_params_"
   ]
  },
  {
   "cell_type": "code",
   "execution_count": 136,
   "id": "65f86226",
   "metadata": {},
   "outputs": [],
   "source": [
    "# Calculate predicted values using the best model\n",
    "y_pred = best_model.predict(X.reshape(-1, 1))"
   ]
  },
  {
   "cell_type": "code",
   "execution_count": 137,
   "id": "62cc016a",
   "metadata": {},
   "outputs": [],
   "source": [
    "# Calculate metrics\n",
    "mse = mean_squared_error(y, y_pred)\n",
    "mae = mean_absolute_error(y, y_pred)\n",
    "r2 = r2_score(y, y_pred)\n",
    "rmse = np.sqrt(mse)"
   ]
  },
  {
   "cell_type": "code",
   "execution_count": 138,
   "id": "9b9fcd36",
   "metadata": {},
   "outputs": [
    {
     "data": {
      "image/png": "[encoded data removed]",
      "text/plain": [
       "<Figure size 640x480 with 1 Axes>"
      ]
     },
     "metadata": {},
     "output_type": "display_data"
    }
   ],
   "source": [
    "# Plot the data and linear regression line\n",
    "plt.scatter(X, y, label='Real data')\n",
    "plt.plot(X, y_pred, color='red', label='SVR')\n",
    "plt.xlabel('Cycle')\n",
    "plt.ylabel('SOH')\n",
    "plt.title('Test 8')\n",
    "plt.legend()\n",
    "plt.savefig(r'C:\\Users\\Asus\\Desktop\\svr8.png', dpi=600)\n",
    "plt.show()"
   ]
  },
  {
   "cell_type": "code",
   "execution_count": 139,
   "id": "fb9e449a",
   "metadata": {},
   "outputs": [
    {
     "name": "stdout",
     "output_type": "stream",
     "text": [
      "Best Parameters: {'C': 0.01, 'gamma': 'scale', 'kernel': 'linear'}\n",
      "Mean Squared Error (MSE): 0.2339152072201929\n",
      "Mean Absolute Error (MAE): 0.4380303021019679\n",
      "R2 Score: -0.09542451895607096\n",
      "Root Mean Squared Error (RMSE): 0.48364781320728917\n"
     ]
    }
   ],
   "source": [
    "# Print best parameters and metrics\n",
    "print(\"Best Parameters:\", best_params)\n",
    "print(\"Mean Squared Error (MSE):\", mse*100)\n",
    "print(\"Mean Absolute Error (MAE):\", mae*10)\n",
    "print(\"R2 Score:\", r2)\n",
    "print(\"Root Mean Squared Error (RMSE):\", rmse*10)"
   ]
  },
  {
   "cell_type": "code",
   "execution_count": null,
   "id": "d10559e9",
   "metadata": {},
   "outputs": [],
   "source": [
    "\n",
    "\n",
    "\n",
    "\n",
    "\n",
    "\n",
    "\n"
   ]
  }
 ],
 "metadata": {
  "kernelspec": {
   "display_name": "Python 3 (ipykernel)",
   "language": "python",
   "name": "python3"
  },
  "language_info": {
   "codemirror_mode": {
    "name": "ipython",
    "version": 3
   },
   "file_extension": ".py",
   "mimetype": "text/x-python",
   "name": "python",
   "nbconvert_exporter": "python",
   "pygments_lexer": "ipython3",
   "version": "3.9.13"
  }
 },
 "nbformat": 4,
 "nbformat_minor": 5
}
