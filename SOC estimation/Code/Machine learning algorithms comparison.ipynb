{
 "cells": [
  {
   "cell_type": "markdown",
   "id": "c29d7c36",
   "metadata": {},
   "source": [
    "### import data"
   ]
  },
  {
   "cell_type": "code",
   "execution_count": 17,
   "id": "d659483f",
   "metadata": {},
   "outputs": [],
   "source": [
    "# Importing necessary libraries\n",
    "import pandas as pd\n",
    "import numpy as np\n",
    "\n",
    "from sklearn.metrics import mean_absolute_error\n",
    "from sklearn.model_selection import train_test_split\n",
    "from sklearn.metrics import mean_squared_error\n",
    "import matplotlib.pyplot as plt"
   ]
  },
  {
   "cell_type": "code",
   "execution_count": 18,
   "id": "56be32f6",
   "metadata": {},
   "outputs": [],
   "source": [
    "import os\n",
    "# Folder path containing CSV files\n",
    "folder_path = r\"C:\\Users\\Asus\\Desktop\\PG Project\\Legend\\vehicles\\Clg project files\\Phase 1\\2nd review\\Li-ion-SoC-Estimation comparison of all\\csv-data\"\n",
    "# Empty list to store data from all CSV files\n",
    "data_frames = []\n"
   ]
  },
  {
   "cell_type": "code",
   "execution_count": 19,
   "id": "96b3d919",
   "metadata": {},
   "outputs": [],
   "source": [
    "# Loop through all CSV files in the folder and append to data_frames list\n",
    "for filename in os.listdir(folder_path):\n",
    "    if filename.endswith('.csv'):\n",
    "        filepath = os.path.join(folder_path, filename)\n",
    "        df = pd.read_csv(filepath)\n",
    "        data_frames.append(df)"
   ]
  },
  {
   "cell_type": "code",
   "execution_count": 20,
   "id": "d2ed39c1",
   "metadata": {},
   "outputs": [],
   "source": [
    "# Concatenate all data frames into a single data frame\n",
    "df = pd.concat(data_frames)"
   ]
  },
  {
   "cell_type": "code",
   "execution_count": 21,
   "id": "bb60309f",
   "metadata": {},
   "outputs": [],
   "source": [
    "#df = pd.read_csv(r\"C:\\Users\\Asus\\Desktop\\PG Project\\Legend\\vehicles\\Clg project files\\2nd review\\Li-ion-SoC-Estimation comparison of all\\csv-data\\03-19-17_14.31 25degC_Cycle_4_Pan18650PF.csv\")"
   ]
  },
  {
   "cell_type": "code",
   "execution_count": 22,
   "id": "fd19c922",
   "metadata": {},
   "outputs": [
    {
     "data": {
      "text/html": [
       "<div>\n",
       "<style scoped>\n",
       "    .dataframe tbody tr th:only-of-type {\n",
       "        vertical-align: middle;\n",
       "    }\n",
       "\n",
       "    .dataframe tbody tr th {\n",
       "        vertical-align: top;\n",
       "    }\n",
       "\n",
       "    .dataframe thead th {\n",
       "        text-align: right;\n",
       "    }\n",
       "</style>\n",
       "<table border=\"1\" class=\"dataframe\">\n",
       "  <thead>\n",
       "    <tr style=\"text-align: right;\">\n",
       "      <th></th>\n",
       "      <th>Voltage</th>\n",
       "      <th>Current</th>\n",
       "      <th>Ah</th>\n",
       "      <th>Wh</th>\n",
       "      <th>Power</th>\n",
       "      <th>Battery Temp</th>\n",
       "      <th>Time</th>\n",
       "      <th>Chamber Temp</th>\n",
       "    </tr>\n",
       "  </thead>\n",
       "  <tbody>\n",
       "    <tr>\n",
       "      <th>count</th>\n",
       "      <td>1.126083e+06</td>\n",
       "      <td>1.126083e+06</td>\n",
       "      <td>1.126083e+06</td>\n",
       "      <td>1.126083e+06</td>\n",
       "      <td>1.126083e+06</td>\n",
       "      <td>1.126083e+06</td>\n",
       "      <td>1.126083e+06</td>\n",
       "      <td>1.126083e+06</td>\n",
       "    </tr>\n",
       "    <tr>\n",
       "      <th>mean</th>\n",
       "      <td>3.669954e+00</td>\n",
       "      <td>-8.494377e-01</td>\n",
       "      <td>-1.328466e+00</td>\n",
       "      <td>-4.867152e+00</td>\n",
       "      <td>-2.979602e+00</td>\n",
       "      <td>2.673785e+01</td>\n",
       "      <td>6.543487e+03</td>\n",
       "      <td>2.498924e+01</td>\n",
       "    </tr>\n",
       "    <tr>\n",
       "      <th>std</th>\n",
       "      <td>2.624735e-01</td>\n",
       "      <td>1.936510e+00</td>\n",
       "      <td>7.854199e-01</td>\n",
       "      <td>2.759813e+00</td>\n",
       "      <td>6.936649e+00</td>\n",
       "      <td>1.071806e+00</td>\n",
       "      <td>4.802305e+03</td>\n",
       "      <td>1.865406e-01</td>\n",
       "    </tr>\n",
       "    <tr>\n",
       "      <th>min</th>\n",
       "      <td>2.493690e+00</td>\n",
       "      <td>-2.082217e+01</td>\n",
       "      <td>-2.798170e+00</td>\n",
       "      <td>-9.709240e+00</td>\n",
       "      <td>-5.356402e+01</td>\n",
       "      <td>2.177041e+01</td>\n",
       "      <td>0.000000e+00</td>\n",
       "      <td>2.300000e+01</td>\n",
       "    </tr>\n",
       "    <tr>\n",
       "      <th>25%</th>\n",
       "      <td>3.487040e+00</td>\n",
       "      <td>-1.701840e+00</td>\n",
       "      <td>-1.985130e+00</td>\n",
       "      <td>-7.175725e+00</td>\n",
       "      <td>-6.168197e+00</td>\n",
       "      <td>2.605661e+01</td>\n",
       "      <td>2.820335e+03</td>\n",
       "      <td>2.500000e+01</td>\n",
       "    </tr>\n",
       "    <tr>\n",
       "      <th>50%</th>\n",
       "      <td>3.663320e+00</td>\n",
       "      <td>-5.904200e-01</td>\n",
       "      <td>-1.311450e+00</td>\n",
       "      <td>-4.887610e+00</td>\n",
       "      <td>-2.167157e+00</td>\n",
       "      <td>2.646011e+01</td>\n",
       "      <td>5.733082e+03</td>\n",
       "      <td>2.500000e+01</td>\n",
       "    </tr>\n",
       "    <tr>\n",
       "      <th>75%</th>\n",
       "      <td>3.883350e+00</td>\n",
       "      <td>-6.696000e-02</td>\n",
       "      <td>-6.401300e-01</td>\n",
       "      <td>-2.464765e+00</td>\n",
       "      <td>-2.630409e-01</td>\n",
       "      <td>2.711018e+01</td>\n",
       "      <td>9.227955e+03</td>\n",
       "      <td>2.500000e+01</td>\n",
       "    </tr>\n",
       "    <tr>\n",
       "      <th>max</th>\n",
       "      <td>4.236100e+00</td>\n",
       "      <td>1.070564e+01</td>\n",
       "      <td>-0.000000e+00</td>\n",
       "      <td>-0.000000e+00</td>\n",
       "      <td>3.680909e+01</td>\n",
       "      <td>3.297207e+01</td>\n",
       "      <td>2.244787e+04</td>\n",
       "      <td>2.600000e+01</td>\n",
       "    </tr>\n",
       "  </tbody>\n",
       "</table>\n",
       "</div>"
      ],
      "text/plain": [
       "            Voltage       Current            Ah            Wh         Power  \\\n",
       "count  1.126083e+06  1.126083e+06  1.126083e+06  1.126083e+06  1.126083e+06   \n",
       "mean   3.669954e+00 -8.494377e-01 -1.328466e+00 -4.867152e+00 -2.979602e+00   \n",
       "std    2.624735e-01  1.936510e+00  7.854199e-01  2.759813e+00  6.936649e+00   \n",
       "min    2.493690e+00 -2.082217e+01 -2.798170e+00 -9.709240e+00 -5.356402e+01   \n",
       "25%    3.487040e+00 -1.701840e+00 -1.985130e+00 -7.175725e+00 -6.168197e+00   \n",
       "50%    3.663320e+00 -5.904200e-01 -1.311450e+00 -4.887610e+00 -2.167157e+00   \n",
       "75%    3.883350e+00 -6.696000e-02 -6.401300e-01 -2.464765e+00 -2.630409e-01   \n",
       "max    4.236100e+00  1.070564e+01 -0.000000e+00 -0.000000e+00  3.680909e+01   \n",
       "\n",
       "       Battery Temp          Time  Chamber Temp  \n",
       "count  1.126083e+06  1.126083e+06  1.126083e+06  \n",
       "mean   2.673785e+01  6.543487e+03  2.498924e+01  \n",
       "std    1.071806e+00  4.802305e+03  1.865406e-01  \n",
       "min    2.177041e+01  0.000000e+00  2.300000e+01  \n",
       "25%    2.605661e+01  2.820335e+03  2.500000e+01  \n",
       "50%    2.646011e+01  5.733082e+03  2.500000e+01  \n",
       "75%    2.711018e+01  9.227955e+03  2.500000e+01  \n",
       "max    3.297207e+01  2.244787e+04  2.600000e+01  "
      ]
     },
     "execution_count": 22,
     "metadata": {},
     "output_type": "execute_result"
    }
   ],
   "source": [
    "df.describe()"
   ]
  },
  {
   "cell_type": "code",
   "execution_count": 23,
   "id": "500f1c4e",
   "metadata": {},
   "outputs": [],
   "source": [
    "max_discharge = abs(min(df[\"Ah\"])) \n",
    "df[\"SoC Capacity\"] = max_discharge + df[\"Ah\"]\n",
    "df[\"SoC Percentage\"] = df[\"SoC Capacity\"] / max(df[\"SoC Capacity\"])"
   ]
  },
  {
   "cell_type": "code",
   "execution_count": 24,
   "id": "0a6aec24",
   "metadata": {},
   "outputs": [],
   "source": [
    "x = df[[\"Voltage\", \"Current\", \"Battery Temp\"]].to_numpy()\n",
    "y = df[[\"SoC Percentage\"]].to_numpy()"
   ]
  },
  {
   "cell_type": "markdown",
   "id": "6aa11ae1",
   "metadata": {},
   "source": [
    "### Linear regression"
   ]
  },
  {
   "cell_type": "code",
   "execution_count": 11,
   "id": "b17032ff",
   "metadata": {},
   "outputs": [],
   "source": [
    "# Splitting the dataset into training and testing sets\n",
    "train_x, test_x, train_y, test_y = train_test_split(x, y, test_size=0.2, random_state=500)"
   ]
  },
  {
   "cell_type": "code",
   "execution_count": 25,
   "id": "c406e5b9",
   "metadata": {},
   "outputs": [
    {
     "data": {
      "text/plain": [
       "LinearRegression()"
      ]
     },
     "execution_count": 25,
     "metadata": {},
     "output_type": "execute_result"
    }
   ],
   "source": [
    "# Creating a Linear Regression model and fitting it on the training data\n",
    "from sklearn.linear_model import LinearRegression\n",
    "lr_model = LinearRegression()\n",
    "lr_model.fit(train_x, train_y)"
   ]
  },
  {
   "cell_type": "code",
   "execution_count": 26,
   "id": "3d6aa140",
   "metadata": {},
   "outputs": [],
   "source": [
    "# Predicting the target variable for the testing set using the trained Linear Regression model\n",
    "predicted_target_lr = lr_model.predict(test_x)"
   ]
  },
  {
   "cell_type": "code",
   "execution_count": 28,
   "id": "7be8b2ab",
   "metadata": {},
   "outputs": [
    {
     "name": "stdout",
     "output_type": "stream",
     "text": [
      "Mean Absolute Error (MAE): 4.354740012645583\n",
      "Root Mean Square Error (RMSE): 6.406242646250146\n"
     ]
    }
   ],
   "source": [
    "# Calculating the Mean Absolute Error (MAE) between the predicted and actual target values\n",
    "mae = mean_absolute_error(test_y, predicted_target_lr)\n",
    "print('Mean Absolute Error (MAE):', mae*100)\n",
    "rmse = np.sqrt(mean_squared_error(test_y, predicted_target_lr))\n",
    "print('Root Mean Square Error (RMSE):', rmse*100)"
   ]
  },
  {
   "cell_type": "markdown",
   "id": "abd78ec1",
   "metadata": {},
   "source": [
    "### Random Forest Algorithm"
   ]
  },
  {
   "cell_type": "code",
   "execution_count": 9,
   "id": "e4f8919a",
   "metadata": {},
   "outputs": [],
   "source": [
    "train_x, test_x, train_y, test_y = train_test_split(x, y, test_size=0.2, random_state=42)"
   ]
  },
  {
   "cell_type": "code",
   "execution_count": 47,
   "id": "84b7f580",
   "metadata": {},
   "outputs": [
    {
     "name": "stderr",
     "output_type": "stream",
     "text": [
      "C:\\Users\\Asus\\AppData\\Local\\Temp\\ipykernel_20168\\179591935.py:4: DataConversionWarning: A column-vector y was passed when a 1d array was expected. Please change the shape of y to (n_samples,), for example using ravel().\n",
      "  rf_model.fit(train_x, train_y)\n"
     ]
    },
    {
     "data": {
      "text/plain": [
       "RandomForestRegressor(n_estimators=200, random_state=100)"
      ]
     },
     "execution_count": 47,
     "metadata": {},
     "output_type": "execute_result"
    }
   ],
   "source": [
    "# Creating a Random Forest regression model and fitting it on the training data\n",
    "from sklearn.ensemble import RandomForestRegressor\n",
    "rf_model = RandomForestRegressor(n_estimators=200, random_state=100)\n",
    "rf_model.fit(train_x, train_y)"
   ]
  },
  {
   "cell_type": "code",
   "execution_count": 48,
   "id": "15d95d0e",
   "metadata": {},
   "outputs": [],
   "source": [
    "# Predicting the target variable for the testing set using the trained Random Forest model\n",
    "predicted_target_rf = rf_model.predict(test_x)"
   ]
  },
  {
   "cell_type": "code",
   "execution_count": 49,
   "id": "2066955d",
   "metadata": {
    "scrolled": true
   },
   "outputs": [
    {
     "name": "stdout",
     "output_type": "stream",
     "text": [
      "Mean Absolute Error (MAE): 0.22473373000428978\n",
      "Root Mean Square Error (RMSE): 1.0048168651038152\n"
     ]
    }
   ],
   "source": [
    "# Calculating the Mean Absolute Error (MAE) between the predicted and actual target values\n",
    "mae = mean_absolute_error(test_y, predicted_target_rf)\n",
    "print('Mean Absolute Error (MAE):', mae*100)\n",
    "rmse = np.sqrt(mean_squared_error(test_y, predicted_target_rf))\n",
    "print('Root Mean Square Error (RMSE):', rmse*100)"
   ]
  },
  {
   "cell_type": "markdown",
   "id": "67e7b710",
   "metadata": {},
   "source": [
    "### Artificial neural network"
   ]
  },
  {
   "cell_type": "code",
   "execution_count": 25,
   "id": "b17ef4b7",
   "metadata": {},
   "outputs": [],
   "source": [
    "# Importing necessary libraries\n",
    "from sklearn.preprocessing import StandardScaler\n",
    "from tensorflow.keras.models import Sequential\n",
    "from tensorflow.keras.layers import Dense\n",
    "from tensorflow.keras.callbacks import EarlyStopping"
   ]
  },
  {
   "cell_type": "code",
   "execution_count": 26,
   "id": "988eb2c7",
   "metadata": {},
   "outputs": [],
   "source": [
    "# Splitting the dataset into training and testing sets\n",
    "train_x, test_x, train_y, test_y = train_test_split(x, y, test_size=0.2, random_state=42)"
   ]
  },
  {
   "cell_type": "code",
   "execution_count": 27,
   "id": "a1ea5c20",
   "metadata": {},
   "outputs": [],
   "source": [
    "# Scaling the features data\n",
    "scaler = StandardScaler()\n",
    "train_x = scaler.fit_transform(train_x)\n",
    "test_x = scaler.transform(test_x)"
   ]
  },
  {
   "cell_type": "code",
   "execution_count": 28,
   "id": "a2a41450",
   "metadata": {},
   "outputs": [],
   "source": [
    "# Creating an ANN model\n",
    "model = Sequential()\n",
    "model.add(Dense(10, activation='relu', input_dim=train_x.shape[1]))\n",
    "model.add(Dense(10, activation='relu'))\n",
    "model.add(Dense(1, activation='linear'))\n",
    "\n",
    "# Compiling the model\n",
    "model.compile(loss='mean_absolute_error', optimizer='adam', metrics=['mae', 'accuracy'])"
   ]
  },
  {
   "cell_type": "code",
   "execution_count": 29,
   "id": "034b080e",
   "metadata": {},
   "outputs": [
    {
     "name": "stdout",
     "output_type": "stream",
     "text": [
      "Epoch 1/25\n",
      "22522/22522 [==============================] - 96s 4ms/step - loss: 0.0199 - mae: 0.0199 - accuracy: 0.0027 - val_loss: 0.0157 - val_mae: 0.0157 - val_accuracy: 0.0026\n",
      "Epoch 2/25\n",
      "22522/22522 [==============================] - 91s 4ms/step - loss: 0.0157 - mae: 0.0157 - accuracy: 0.0027 - val_loss: 0.0152 - val_mae: 0.0152 - val_accuracy: 0.0026\n",
      "Epoch 3/25\n",
      "22522/22522 [==============================] - 98s 4ms/step - loss: 0.0153 - mae: 0.0153 - accuracy: 0.0027 - val_loss: 0.0149 - val_mae: 0.0149 - val_accuracy: 0.0026\n",
      "Epoch 4/25\n",
      "22522/22522 [==============================] - 93s 4ms/step - loss: 0.0152 - mae: 0.0152 - accuracy: 0.0027 - val_loss: 0.0151 - val_mae: 0.0151 - val_accuracy: 0.0026\n",
      "Epoch 5/25\n",
      "22522/22522 [==============================] - 96s 4ms/step - loss: 0.0151 - mae: 0.0151 - accuracy: 0.0027 - val_loss: 0.0148 - val_mae: 0.0148 - val_accuracy: 0.0026\n",
      "Epoch 6/25\n",
      "22522/22522 [==============================] - 89s 4ms/step - loss: 0.0148 - mae: 0.0148 - accuracy: 0.0027 - val_loss: 0.0145 - val_mae: 0.0145 - val_accuracy: 0.0026\n",
      "Epoch 7/25\n",
      "22522/22522 [==============================] - 91s 4ms/step - loss: 0.0145 - mae: 0.0145 - accuracy: 0.0027 - val_loss: 0.0146 - val_mae: 0.0146 - val_accuracy: 0.0026\n",
      "Epoch 8/25\n",
      "22522/22522 [==============================] - 52s 2ms/step - loss: 0.0144 - mae: 0.0144 - accuracy: 0.0027 - val_loss: 0.0142 - val_mae: 0.0142 - val_accuracy: 0.0026\n",
      "Epoch 9/25\n",
      "22522/22522 [==============================] - 55s 2ms/step - loss: 0.0144 - mae: 0.0144 - accuracy: 0.0027 - val_loss: 0.0148 - val_mae: 0.0148 - val_accuracy: 0.0026\n",
      "Epoch 10/25\n",
      "22522/22522 [==============================] - 54s 2ms/step - loss: 0.0142 - mae: 0.0142 - accuracy: 0.0027 - val_loss: 0.0142 - val_mae: 0.0142 - val_accuracy: 0.0026\n",
      "Epoch 11/25\n",
      "22522/22522 [==============================] - 54s 2ms/step - loss: 0.0142 - mae: 0.0142 - accuracy: 0.0027 - val_loss: 0.0140 - val_mae: 0.0140 - val_accuracy: 0.0026\n",
      "Epoch 12/25\n",
      "22522/22522 [==============================] - 54s 2ms/step - loss: 0.0141 - mae: 0.0141 - accuracy: 0.0027 - val_loss: 0.0150 - val_mae: 0.0150 - val_accuracy: 0.0026\n",
      "Epoch 13/25\n",
      "22522/22522 [==============================] - 56s 2ms/step - loss: 0.0140 - mae: 0.0140 - accuracy: 0.0027 - val_loss: 0.0141 - val_mae: 0.0141 - val_accuracy: 0.0026\n",
      "Epoch 14/25\n",
      "22522/22522 [==============================] - 51s 2ms/step - loss: 0.0140 - mae: 0.0140 - accuracy: 0.0027 - val_loss: 0.0137 - val_mae: 0.0137 - val_accuracy: 0.0026\n",
      "Epoch 15/25\n",
      "22522/22522 [==============================] - 54s 2ms/step - loss: 0.0140 - mae: 0.0140 - accuracy: 0.0027 - val_loss: 0.0139 - val_mae: 0.0139 - val_accuracy: 0.0026\n",
      "Epoch 16/25\n",
      "22522/22522 [==============================] - 52s 2ms/step - loss: 0.0140 - mae: 0.0140 - accuracy: 0.0027 - val_loss: 0.0144 - val_mae: 0.0144 - val_accuracy: 0.0026\n",
      "Epoch 17/25\n",
      "22522/22522 [==============================] - 45s 2ms/step - loss: 0.0139 - mae: 0.0139 - accuracy: 0.0027 - val_loss: 0.0150 - val_mae: 0.0150 - val_accuracy: 0.0026\n",
      "Epoch 18/25\n",
      "22522/22522 [==============================] - 45s 2ms/step - loss: 0.0139 - mae: 0.0139 - accuracy: 0.0027 - val_loss: 0.0144 - val_mae: 0.0144 - val_accuracy: 0.0026\n",
      "Epoch 19/25\n",
      "22522/22522 [==============================] - 45s 2ms/step - loss: 0.0139 - mae: 0.0139 - accuracy: 0.0027 - val_loss: 0.0140 - val_mae: 0.0140 - val_accuracy: 0.0026\n",
      "Epoch 20/25\n",
      "22522/22522 [==============================] - 44s 2ms/step - loss: 0.0139 - mae: 0.0139 - accuracy: 0.0027 - val_loss: 0.0149 - val_mae: 0.0149 - val_accuracy: 0.0026\n",
      "Epoch 21/25\n",
      "22522/22522 [==============================] - 49s 2ms/step - loss: 0.0139 - mae: 0.0139 - accuracy: 0.0027 - val_loss: 0.0140 - val_mae: 0.0140 - val_accuracy: 0.0026\n",
      "Epoch 22/25\n",
      "22522/22522 [==============================] - 52s 2ms/step - loss: 0.0139 - mae: 0.0139 - accuracy: 0.0027 - val_loss: 0.0138 - val_mae: 0.0138 - val_accuracy: 0.0026\n",
      "Epoch 23/25\n",
      "22522/22522 [==============================] - 52s 2ms/step - loss: 0.0139 - mae: 0.0139 - accuracy: 0.0027 - val_loss: 0.0138 - val_mae: 0.0138 - val_accuracy: 0.0026\n",
      "Epoch 24/25\n",
      "22522/22522 [==============================] - 51s 2ms/step - loss: 0.0139 - mae: 0.0139 - accuracy: 0.0027 - val_loss: 0.0139 - val_mae: 0.0139 - val_accuracy: 0.0026\n",
      "Epoch 24: early stopping\n"
     ]
    }
   ],
   "source": [
    "# Training the model\n",
    "early_stop = EarlyStopping(monitor='val_loss', patience=10, verbose=1)\n",
    "history = model.fit(train_x, train_y, epochs=25, validation_split=0.2, callbacks=[early_stop])"
   ]
  },
  {
   "cell_type": "code",
   "execution_count": 30,
   "id": "975cc2dd",
   "metadata": {},
   "outputs": [
    {
     "name": "stdout",
     "output_type": "stream",
     "text": [
      "7039/7039 [==============================] - 11s 2ms/step\n",
      "Mean Absolute Error (MAE): 0.1379001317335464\n",
      "Root Mean Square Error (RMSE): 0.20720221973341668\n"
     ]
    }
   ],
   "source": [
    "# Predicting the target variable for the testing set using the trained ANN model\n",
    "predicted_target = model.predict(test_x)\n",
    "\n",
    "# Calculating the Mean Absolute Error (MAE) between the predicted and actual target values\n",
    "mae = mean_absolute_error(test_y, predicted_target)\n",
    "print('Mean Absolute Error (MAE):', mae*10)\n",
    "rmse = np.sqrt(mean_squared_error(test_y, predicted_target))\n",
    "print('Root Mean Square Error (RMSE):', rmse*10)"
   ]
  },
  {
   "cell_type": "code",
   "execution_count": 31,
   "id": "7fa675bd",
   "metadata": {},
   "outputs": [
    {
     "data": {
      "image/png": "[encoded data removed]",
      "text/plain": [
       "<Figure size 640x480 with 1 Axes>"
      ]
     },
     "metadata": {},
     "output_type": "display_data"
    },
    {
     "data": {
      "image/png": "[encoded data removed]",
      "text/plain": [
       "<Figure size 640x480 with 1 Axes>"
      ]
     },
     "metadata": {},
     "output_type": "display_data"
    }
   ],
   "source": [
    "plt.plot(history.history['mae'])\n",
    "plt.plot(history.history['val_loss'])\n",
    "plt.title('Model Loss')\n",
    "plt.ylabel('Loss')\n",
    "plt.xlabel('Epoch')\n",
    "plt.legend(['Train', 'Test'], loc='upper right')\n",
    "plt.savefig(r\"C:\\Users\\Asus\\Desktop\\abc1.png\", dpi=600)\n",
    "plt.show()\n",
    "\n",
    "# Plotting the training and test accuracy\n",
    "plt.plot(history.history['accuracy'])\n",
    "plt.plot(history.history['val_mae'])\n",
    "plt.title('Model Accuracy')\n",
    "plt.ylabel('Accuracy')\n",
    "plt.xlabel('Epoch')\n",
    "plt.legend(['Train', 'Test'], loc='lower right')\n",
    "plt.savefig(r\"C:\\Users\\Asus\\Desktop\\abc2.png\", dpi=600)\n",
    "plt.show()\n",
    "\n"
   ]
  },
  {
   "cell_type": "markdown",
   "id": "0450afbf",
   "metadata": {},
   "source": [
    "# Extras"
   ]
  },
  {
   "cell_type": "markdown",
   "id": "39de1879",
   "metadata": {},
   "source": [
    "Linear Regression doesnt use learning rate, epochs, or batch size, as it uses the closed-form solution to find the optimal coefficients. These hyperparameters are used in iterative optimization algorithms like gradient descent. However, we can still include batch size in Linear Regression by using a batch-wise gradient descent approach. "
   ]
  },
  {
   "cell_type": "code",
   "execution_count": 9,
   "id": "f1624359",
   "metadata": {},
   "outputs": [
    {
     "name": "stdout",
     "output_type": "stream",
     "text": [
      "Epoch 1, Train MAE: 0.0307, Train RMSE: 0.0487, Test MAE: 0.0307, Test RMSE: 0.0486\n",
      "Epoch 2, Train MAE: 0.0307, Train RMSE: 0.0487, Test MAE: 0.0307, Test RMSE: 0.0486\n",
      "Epoch 3, Train MAE: 0.0307, Train RMSE: 0.0487, Test MAE: 0.0307, Test RMSE: 0.0486\n",
      "Epoch 4, Train MAE: 0.0307, Train RMSE: 0.0487, Test MAE: 0.0307, Test RMSE: 0.0486\n",
      "Epoch 5, Train MAE: 0.0307, Train RMSE: 0.0487, Test MAE: 0.0307, Test RMSE: 0.0486\n",
      "Epoch 6, Train MAE: 0.0307, Train RMSE: 0.0487, Test MAE: 0.0307, Test RMSE: 0.0486\n",
      "Epoch 7, Train MAE: 0.0307, Train RMSE: 0.0487, Test MAE: 0.0307, Test RMSE: 0.0486\n",
      "Epoch 8, Train MAE: 0.0307, Train RMSE: 0.0487, Test MAE: 0.0307, Test RMSE: 0.0486\n",
      "Epoch 9, Train MAE: 0.0307, Train RMSE: 0.0487, Test MAE: 0.0307, Test RMSE: 0.0486\n",
      "Epoch 10, Train MAE: 0.0307, Train RMSE: 0.0487, Test MAE: 0.0307, Test RMSE: 0.0486\n",
      "Epoch 11, Train MAE: 0.0307, Train RMSE: 0.0487, Test MAE: 0.0307, Test RMSE: 0.0486\n",
      "Epoch 12, Train MAE: 0.0307, Train RMSE: 0.0487, Test MAE: 0.0307, Test RMSE: 0.0486\n",
      "Epoch 13, Train MAE: 0.0307, Train RMSE: 0.0487, Test MAE: 0.0307, Test RMSE: 0.0486\n",
      "Epoch 14, Train MAE: 0.0307, Train RMSE: 0.0487, Test MAE: 0.0307, Test RMSE: 0.0486\n",
      "Epoch 15, Train MAE: 0.0307, Train RMSE: 0.0487, Test MAE: 0.0307, Test RMSE: 0.0486\n",
      "Epoch 16, Train MAE: 0.0307, Train RMSE: 0.0487, Test MAE: 0.0307, Test RMSE: 0.0486\n",
      "Epoch 17, Train MAE: 0.0307, Train RMSE: 0.0487, Test MAE: 0.0307, Test RMSE: 0.0486\n",
      "Epoch 18, Train MAE: 0.0307, Train RMSE: 0.0487, Test MAE: 0.0307, Test RMSE: 0.0486\n",
      "Epoch 19, Train MAE: 0.0307, Train RMSE: 0.0487, Test MAE: 0.0307, Test RMSE: 0.0486\n",
      "Epoch 20, Train MAE: 0.0307, Train RMSE: 0.0487, Test MAE: 0.0307, Test RMSE: 0.0486\n"
     ]
    },
    {
     "data": {
      "image/png": "[encoded data removed]",
      "text/plain": [
       "<Figure size 640x480 with 1 Axes>"
      ]
     },
     "metadata": {},
     "output_type": "display_data"
    },
    {
     "data": {
      "image/png": "[encoded data removed]",
      "text/plain": [
       "<Figure size 640x480 with 1 Axes>"
      ]
     },
     "metadata": {},
     "output_type": "display_data"
    }
   ],
   "source": [
    "import pandas as pd\n",
    "import numpy as np\n",
    "\n",
    "from sklearn.metrics import mean_absolute_error\n",
    "from sklearn.model_selection import train_test_split\n",
    "from sklearn.metrics import mean_squared_error\n",
    "import matplotlib.pyplot as plt\n",
    "\n",
    "\n",
    "import os\n",
    "# Folder path containing CSV files\n",
    "folder_path = r\"C:\\Users\\Asus\\Desktop\\PG Project\\Legend\\vehicles\\Clg project files\\2nd review\\Li-ion-SoC-Estimation comparison of all\\csv-data\"\n",
    "# Empty list to store data from all CSV files\n",
    "data_frames = []\n",
    "\n",
    "# Loop through all CSV files in the folder and append to data_frames list\n",
    "for filename in os.listdir(folder_path):\n",
    "    if filename.endswith('.csv'):\n",
    "        filepath = os.path.join(folder_path, filename)\n",
    "        df = pd.read_csv(filepath)\n",
    "        data_frames.append(df)\n",
    "\n",
    "\n",
    "# Concatenate all data frames into a single data frame\n",
    "df = pd.concat(data_frames)\n",
    "\n",
    "\n",
    "max_discharge = abs(min(df[\"Ah\"])) \n",
    "df[\"SoC Capacity\"] = max_discharge + df[\"Ah\"]\n",
    "df[\"SoC Percentage\"] = df[\"SoC Capacity\"] / max(df[\"SoC Capacity\"])\n",
    "\n",
    "\n",
    "x = df[[\"Voltage\", \"Current\", \"Battery Temp\"]].to_numpy()\n",
    "y = df[[\"SoC Percentage\"]].to_numpy()\n",
    "\n",
    "\n",
    "# Splitting the dataset into training and testing sets\n",
    "train_x, test_x, train_y, test_y = train_test_split(x, y, test_size=0.2, random_state=500)\n",
    "\n",
    "# Set batch size\n",
    "batch_size = 16\n",
    "\n",
    "# Number of batches\n",
    "n_batches = int(np.ceil(train_x.shape[0] / batch_size))\n",
    "\n",
    "# Set number of epochs\n",
    "n_epochs = 20\n",
    "\n",
    "# Creating a Linear Regression model\n",
    "lr_model = LinearRegression()\n",
    "\n",
    "for epoch in range(n_epochs):\n",
    "    # Shuffle indices\n",
    "    indices = np.random.permutation(train_x.shape[0])\n",
    "    # Split indices into batches\n",
    "    batch_indices = np.array_split(indices, n_batches)\n",
    "    \n",
    "    for batch_index in batch_indices:\n",
    "        # Get batch data\n",
    "        batch_x = train_x[batch_index]\n",
    "        batch_y = train_y[batch_index]\n",
    "        \n",
    "        # Fit batch data to the model\n",
    "        lr_model.fit(batch_x, batch_y)\n",
    "\n",
    "    # Predicting the target variable for the testing set using the trained Linear Regression model\n",
    "    predicted_target_lr = lr_model.predict(test_x)\n",
    "\n",
    "    # Calculating the Mean Absolute Error (MAE) between the predicted and actual target values\n",
    "    mae = mean_absolute_error(test_y, predicted_target_lr)\n",
    "    print('Epoch:', epoch+1, 'MAE:', mae*100)\n",
    "\n",
    "    rmse = np.sqrt(mean_squared_error(test_y, predicted_target_lr))\n",
    "    print('Epoch:', epoch+1, 'RMSE:', rmse*100)\n"
   ]
  },
  {
   "cell_type": "code",
   "execution_count": null,
   "id": "9a3b5322",
   "metadata": {},
   "outputs": [],
   "source": [
    "import pandas as pd\n",
    "import numpy as np\n",
    "\n",
    "from sklearn.metrics import mean_absolute_error\n",
    "from sklearn.model_selection import train_test_split\n",
    "from sklearn.metrics import mean_squared_error\n",
    "import matplotlib.pyplot as plt\n",
    "from sklearn.linear_model import LinearRegression\n",
    "\n",
    "import os\n",
    "# Folder path containing CSV files\n",
    "folder_path = r\"C:\\Users\\Asus\\Desktop\\PG Project\\Legend\\vehicles\\Clg project files\\2nd review\\Li-ion-SoC-Estimation comparison of all\\csv-data\"\n",
    "# Empty list to store data from all CSV files\n",
    "data_frames = []\n",
    "\n",
    "# Loop through all CSV files in the folder and append to data_frames list\n",
    "for filename in os.listdir(folder_path):\n",
    "    if filename.endswith('.csv'):\n",
    "        filepath = os.path.join(folder_path, filename)\n",
    "        df = pd.read_csv(filepath)\n",
    "        data_frames.append(df)\n",
    "\n",
    "\n",
    "# Concatenate all data frames into a single data frame\n",
    "df = pd.concat(data_frames)\n",
    "\n",
    "max_discharge = abs(min(df[\"Ah\"])) \n",
    "df[\"SoC Capacity\"] = max_discharge + df[\"Ah\"]\n",
    "df[\"SoC Percentage\"] = df[\"SoC Capacity\"] / max(df[\"SoC Capacity\"])\n",
    "\n",
    "x = df[[\"Voltage\", \"Current\", \"Battery Temp\"]].to_numpy()\n",
    "y = df[[\"SoC Percentage\"]].to_numpy()\n",
    "\n",
    "# Splitting the dataset into training and testing sets\n",
    "train_x, test_x, train_y, test_y = train_test_split(x, y, test_size=0.2, random_state=500)\n",
    "\n",
    "# Define the learning rate and number of epochs\n",
    "learning_rate = 0.001\n",
    "epochs = 10\n",
    "batch_size = 16\n",
    "\n",
    "# Initialize the Linear Regression model\n",
    "lr_model = LinearRegression()\n",
    "\n",
    "# Store the MAE and RMSE for each epoch\n",
    "mae_list = []\n",
    "rmse_list = []\n",
    "\n",
    "# Training the model\n",
    "for epoch in range(epochs):\n",
    "    # Train the model on the training set for the current epoch\n",
    "    lr_model.fit(train_x, train_y)\n",
    "    \n",
    "    # Predict the target variable for the testing set using the trained Linear Regression model\n",
    "    predicted_target_lr = lr_model.predict(test_x)\n",
    "    \n",
    "    # Calculate the Mean Absolute Error (MAE) and Root Mean Square Error (RMSE) for the current epoch\n",
    "    mae = mean_absolute_error(test_y, predicted_target_lr)\n",
    "    rmse = np.sqrt(mean_squared_error(test_y, predicted_target_lr))\n",
    "    \n",
    "    # Append the MAE and RMSE for the current epoch to the lists\n",
    "    mae_list.append(mae)\n",
    "    rmse_list.append(rmse)\n",
    "    \n",
    "    # Print the MAE and RMSE for the current epoch\n",
    "    print(f\"Epoch {epoch+1} - MAE: {mae*100:.2f}, RMSE: {rmse*100:.2f}\")\n",
    "\n",
    "# Plot the MAE and RMSE for each epoch\n",
    "plt.plot(range(epochs), mae_list, label=\"MAE\")\n",
    "plt.plot(range(epochs), rmse_list, label=\"RMSE\")\n",
    "plt.xlabel(\"Epochs\")\n",
    "plt.ylabel(\"Error\")\n",
    "plt.title(\"MAE and RMSE for each Epoch\")\n",
    "plt.legend()\n",
    "plt.show()\n"
   ]
  }
 ],
 "metadata": {
  "kernelspec": {
   "display_name": "Python 3 (ipykernel)",
   "language": "python",
   "name": "python3"
  },
  "language_info": {
   "codemirror_mode": {
    "name": "ipython",
    "version": 3
   },
   "file_extension": ".py",
   "mimetype": "text/x-python",
   "name": "python",
   "nbconvert_exporter": "python",
   "pygments_lexer": "ipython3",
   "version": "3.9.13"
  }
 },
 "nbformat": 4,
 "nbformat_minor": 5
}
